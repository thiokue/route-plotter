{
 "cells": [
  {
   "cell_type": "code",
   "execution_count": 59,
   "metadata": {},
   "outputs": [],
   "source": [
    "import pandas as pd\n",
    "import matplotlib.pyplot as plt\n",
    "import seaborn as sns\n"
   ]
  },
  {
   "cell_type": "code",
   "execution_count": 10,
   "metadata": {},
   "outputs": [
    {
     "data": {
      "text/html": [
       "<div>\n",
       "<style scoped>\n",
       "    .dataframe tbody tr th:only-of-type {\n",
       "        vertical-align: middle;\n",
       "    }\n",
       "\n",
       "    .dataframe tbody tr th {\n",
       "        vertical-align: top;\n",
       "    }\n",
       "\n",
       "    .dataframe thead th {\n",
       "        text-align: right;\n",
       "    }\n",
       "</style>\n",
       "<table border=\"1\" class=\"dataframe\">\n",
       "  <thead>\n",
       "    <tr style=\"text-align: right;\">\n",
       "      <th></th>\n",
       "      <th>vehicle_id</th>\n",
       "      <th>vehicle_current_status</th>\n",
       "      <th>patent</th>\n",
       "      <th>vehicle_model</th>\n",
       "      <th>vehicle_type</th>\n",
       "      <th>kilometer</th>\n",
       "      <th>latitude</th>\n",
       "      <th>longitude</th>\n",
       "      <th>zone_name</th>\n",
       "    </tr>\n",
       "  </thead>\n",
       "  <tbody>\n",
       "    <tr>\n",
       "      <th>0</th>\n",
       "      <td>12</td>\n",
       "      <td>ACTIVE</td>\n",
       "      <td>HKQ6C99</td>\n",
       "      <td>Fiorino</td>\n",
       "      <td>Cargo</td>\n",
       "      <td>2090.41</td>\n",
       "      <td>-23.630684</td>\n",
       "      <td>-46.699818</td>\n",
       "      <td>Pare na Rua</td>\n",
       "    </tr>\n",
       "    <tr>\n",
       "      <th>1</th>\n",
       "      <td>19</td>\n",
       "      <td>ACTIVE</td>\n",
       "      <td>BNI7Q48</td>\n",
       "      <td>Fiorino</td>\n",
       "      <td>Cargo</td>\n",
       "      <td>217.11</td>\n",
       "      <td>-23.620918</td>\n",
       "      <td>-46.685555</td>\n",
       "      <td>Pare na Rua</td>\n",
       "    </tr>\n",
       "    <tr>\n",
       "      <th>2</th>\n",
       "      <td>20</td>\n",
       "      <td>ACTIVE</td>\n",
       "      <td>KIQ2T57</td>\n",
       "      <td>Tracker</td>\n",
       "      <td>SUV</td>\n",
       "      <td>265.11</td>\n",
       "      <td>-23.627500</td>\n",
       "      <td>-46.669334</td>\n",
       "      <td>Pare na Rua</td>\n",
       "    </tr>\n",
       "    <tr>\n",
       "      <th>3</th>\n",
       "      <td>21</td>\n",
       "      <td>ACTIVE</td>\n",
       "      <td>FRB5B87</td>\n",
       "      <td>Fiorino</td>\n",
       "      <td>Cargo</td>\n",
       "      <td>389.96</td>\n",
       "      <td>-23.603878</td>\n",
       "      <td>-46.658375</td>\n",
       "      <td>Atlas- Moema</td>\n",
       "    </tr>\n",
       "    <tr>\n",
       "      <th>4</th>\n",
       "      <td>22</td>\n",
       "      <td>ACTIVE</td>\n",
       "      <td>BBC8E14</td>\n",
       "      <td>Fiorino</td>\n",
       "      <td>Cargo</td>\n",
       "      <td>545.40</td>\n",
       "      <td>-23.549618</td>\n",
       "      <td>-46.615220</td>\n",
       "      <td>Trevo - Rua Alegria</td>\n",
       "    </tr>\n",
       "  </tbody>\n",
       "</table>\n",
       "</div>"
      ],
      "text/plain": [
       "   vehicle_id vehicle_current_status   patent vehicle_model vehicle_type   \n",
       "0          12                 ACTIVE  HKQ6C99       Fiorino        Cargo  \\\n",
       "1          19                 ACTIVE  BNI7Q48       Fiorino        Cargo   \n",
       "2          20                 ACTIVE  KIQ2T57       Tracker          SUV   \n",
       "3          21                 ACTIVE  FRB5B87       Fiorino        Cargo   \n",
       "4          22                 ACTIVE  BBC8E14       Fiorino        Cargo   \n",
       "\n",
       "   kilometer   latitude  longitude            zone_name  \n",
       "0    2090.41 -23.630684 -46.699818          Pare na Rua  \n",
       "1     217.11 -23.620918 -46.685555          Pare na Rua  \n",
       "2     265.11 -23.627500 -46.669334          Pare na Rua  \n",
       "3     389.96 -23.603878 -46.658375         Atlas- Moema  \n",
       "4     545.40 -23.549618 -46.615220  Trevo - Rua Alegria  "
      ]
     },
     "execution_count": 10,
     "metadata": {},
     "output_type": "execute_result"
    }
   ],
   "source": [
    "df = pd.read_excel(r'Planilhas de Dados/24.04.xlsx')\n",
    "df.head()"
   ]
  },
  {
   "cell_type": "code",
   "execution_count": 18,
   "metadata": {},
   "outputs": [
    {
     "name": "stdout",
     "output_type": "stream",
     "text": [
      "As dimensões do dataframe são:\n",
      " Linhas: 170\n",
      " Colunas: 9\n",
      "\n",
      "Nome das colunas:\n",
      " vehicle_id\n",
      " vehicle_current_status\n",
      " patent\n",
      " vehicle_model\n",
      " vehicle_type\n",
      " kilometer\n",
      " latitude\n",
      " longitude\n",
      " zone_name\n"
     ]
    }
   ],
   "source": [
    "print(f'As dimensões do dataframe são:\\n Linhas: {df.shape[0]}\\n Colunas: {df.shape[1]}\\n')\n",
    "\n",
    "colunas = df.columns.to_list()\n",
    "print(f'Nome das colunas:')\n",
    "for coluna in colunas:\n",
    "    print(' ' + coluna)"
   ]
  },
  {
   "cell_type": "code",
   "execution_count": 35,
   "metadata": {},
   "outputs": [
    {
     "data": {
      "text/plain": [
       "vehicle_id                0\n",
       "vehicle_current_status    0\n",
       "patent                    0\n",
       "vehicle_model             0\n",
       "vehicle_type              0\n",
       "kilometer                 0\n",
       "latitude                  0\n",
       "longitude                 0\n",
       "zone_name                 1\n",
       "dtype: int64"
      ]
     },
     "execution_count": 35,
     "metadata": {},
     "output_type": "execute_result"
    }
   ],
   "source": [
    "df.isnull().sum()"
   ]
  },
  {
   "cell_type": "code",
   "execution_count": 43,
   "metadata": {},
   "outputs": [],
   "source": [
    "df = df.fillna('Pare na Rua')"
   ]
  },
  {
   "cell_type": "code",
   "execution_count": 44,
   "metadata": {},
   "outputs": [
    {
     "data": {
      "text/plain": [
       "vehicle_id                0\n",
       "vehicle_current_status    0\n",
       "patent                    0\n",
       "vehicle_model             0\n",
       "vehicle_type              0\n",
       "kilometer                 0\n",
       "latitude                  0\n",
       "longitude                 0\n",
       "zone_name                 0\n",
       "dtype: int64"
      ]
     },
     "execution_count": 44,
     "metadata": {},
     "output_type": "execute_result"
    }
   ],
   "source": [
    "df.isnull().sum()"
   ]
  },
  {
   "cell_type": "code",
   "execution_count": 37,
   "metadata": {},
   "outputs": [
    {
     "data": {
      "text/plain": [
       "vehicle_id                  int64\n",
       "vehicle_current_status     object\n",
       "patent                     object\n",
       "vehicle_model              object\n",
       "vehicle_type               object\n",
       "kilometer                 float64\n",
       "latitude                  float64\n",
       "longitude                 float64\n",
       "zone_name                  object\n",
       "dtype: object"
      ]
     },
     "execution_count": 37,
     "metadata": {},
     "output_type": "execute_result"
    }
   ],
   "source": [
    "df.dtypes"
   ]
  },
  {
   "cell_type": "code",
   "execution_count": 53,
   "metadata": {},
   "outputs": [
    {
     "name": "stdout",
     "output_type": "stream",
     "text": [
      "Os carros desse dataframe são: ['Fiorino', 'Tracker', 'Stonic', 'Onix']\n"
     ]
    },
    {
     "data": {
      "text/html": [
       "<div>\n",
       "<style scoped>\n",
       "    .dataframe tbody tr th:only-of-type {\n",
       "        vertical-align: middle;\n",
       "    }\n",
       "\n",
       "    .dataframe tbody tr th {\n",
       "        vertical-align: top;\n",
       "    }\n",
       "\n",
       "    .dataframe thead th {\n",
       "        text-align: right;\n",
       "    }\n",
       "</style>\n",
       "<table border=\"1\" class=\"dataframe\">\n",
       "  <thead>\n",
       "    <tr style=\"text-align: right;\">\n",
       "      <th></th>\n",
       "      <th>vehicle_model</th>\n",
       "      <th>vehicle_id</th>\n",
       "    </tr>\n",
       "  </thead>\n",
       "  <tbody>\n",
       "    <tr>\n",
       "      <th>0</th>\n",
       "      <td>Fiorino</td>\n",
       "      <td>27</td>\n",
       "    </tr>\n",
       "    <tr>\n",
       "      <th>1</th>\n",
       "      <td>Onix</td>\n",
       "      <td>86</td>\n",
       "    </tr>\n",
       "    <tr>\n",
       "      <th>2</th>\n",
       "      <td>Stonic</td>\n",
       "      <td>30</td>\n",
       "    </tr>\n",
       "    <tr>\n",
       "      <th>3</th>\n",
       "      <td>Tracker</td>\n",
       "      <td>27</td>\n",
       "    </tr>\n",
       "  </tbody>\n",
       "</table>\n",
       "</div>"
      ],
      "text/plain": [
       "  vehicle_model  vehicle_id\n",
       "0       Fiorino          27\n",
       "1          Onix          86\n",
       "2        Stonic          30\n",
       "3       Tracker          27"
      ]
     },
     "execution_count": 53,
     "metadata": {},
     "output_type": "execute_result"
    }
   ],
   "source": [
    "carros = df.vehicle_model.unique().tolist()\n",
    "print(f'Os carros desse dataframe são: {carros}')\n",
    "contagem_modelos = df.groupby('vehicle_model').vehicle_id.count().reset_index()\n",
    "contagem_modelos"
   ]
  },
  {
   "cell_type": "code",
   "execution_count": 57,
   "metadata": {},
   "outputs": [
    {
     "name": "stdout",
     "output_type": "stream",
     "text": [
      "As categorias dos carros disponiveis são: ['Cargo', 'SUV', 'Hybrid', 'Top Sedan']\n"
     ]
    },
    {
     "data": {
      "text/html": [
       "<div>\n",
       "<style scoped>\n",
       "    .dataframe tbody tr th:only-of-type {\n",
       "        vertical-align: middle;\n",
       "    }\n",
       "\n",
       "    .dataframe tbody tr th {\n",
       "        vertical-align: top;\n",
       "    }\n",
       "\n",
       "    .dataframe thead th {\n",
       "        text-align: right;\n",
       "    }\n",
       "</style>\n",
       "<table border=\"1\" class=\"dataframe\">\n",
       "  <thead>\n",
       "    <tr style=\"text-align: right;\">\n",
       "      <th></th>\n",
       "      <th>vehicle_type</th>\n",
       "      <th>vehicle_id</th>\n",
       "    </tr>\n",
       "  </thead>\n",
       "  <tbody>\n",
       "    <tr>\n",
       "      <th>0</th>\n",
       "      <td>Cargo</td>\n",
       "      <td>27</td>\n",
       "    </tr>\n",
       "    <tr>\n",
       "      <th>1</th>\n",
       "      <td>Hybrid</td>\n",
       "      <td>30</td>\n",
       "    </tr>\n",
       "    <tr>\n",
       "      <th>2</th>\n",
       "      <td>SUV</td>\n",
       "      <td>27</td>\n",
       "    </tr>\n",
       "    <tr>\n",
       "      <th>3</th>\n",
       "      <td>Top Sedan</td>\n",
       "      <td>86</td>\n",
       "    </tr>\n",
       "  </tbody>\n",
       "</table>\n",
       "</div>"
      ],
      "text/plain": [
       "  vehicle_type  vehicle_id\n",
       "0        Cargo          27\n",
       "1       Hybrid          30\n",
       "2          SUV          27\n",
       "3    Top Sedan          86"
      ]
     },
     "execution_count": 57,
     "metadata": {},
     "output_type": "execute_result"
    }
   ],
   "source": [
    "categoria_carros = df.vehicle_type.unique().tolist()\n",
    "print(f'As categorias dos carros disponiveis são: {categoria_carros}')\n",
    "\n",
    "contagem_categorias = df.groupby('vehicle_type').vehicle_id.count().reset_index()\n",
    "contagem_categorias\n"
   ]
  },
  {
   "cell_type": "code",
   "execution_count": 31,
   "metadata": {},
   "outputs": [
    {
     "name": "stdout",
     "output_type": "stream",
     "text": [
      "O número de carros únicos são: 170\n"
     ]
    }
   ],
   "source": [
    "carros_unicos = df.vehicle_id.unique().tolist()\n",
    "print(f'O número de carros únicos são: {len(carros_unicos)}')"
   ]
  },
  {
   "cell_type": "code",
   "execution_count": 71,
   "metadata": {},
   "outputs": [
    {
     "ename": "ValueError",
     "evalue": "cannot insert level_0, already exists",
     "output_type": "error",
     "traceback": [
      "\u001b[1;31m---------------------------------------------------------------------------\u001b[0m",
      "\u001b[1;31mValueError\u001b[0m                                Traceback (most recent call last)",
      "Cell \u001b[1;32mIn[71], line 1\u001b[0m\n\u001b[1;32m----> 1\u001b[0m contagem_modelos \u001b[39m=\u001b[39m contagem_modelos\u001b[39m.\u001b[39;49msort_values(by\u001b[39m=\u001b[39;49m[\u001b[39m'\u001b[39;49m\u001b[39mvehicle_id\u001b[39;49m\u001b[39m'\u001b[39;49m], ascending\u001b[39m=\u001b[39;49m\u001b[39mFalse\u001b[39;49;00m)\u001b[39m.\u001b[39;49mreset_index()\n\u001b[0;32m      2\u001b[0m plt\u001b[39m.\u001b[39mfigure(figsize\u001b[39m=\u001b[39m(\u001b[39m15\u001b[39m,\u001b[39m4\u001b[39m))\n\u001b[0;32m      3\u001b[0m sns\u001b[39m.\u001b[39mbarplot(x\u001b[39m=\u001b[39m\u001b[39m'\u001b[39m\u001b[39mvehicle_model\u001b[39m\u001b[39m'\u001b[39m, y\u001b[39m=\u001b[39m\u001b[39m'\u001b[39m\u001b[39mvehicle_id\u001b[39m\u001b[39m'\u001b[39m, data\u001b[39m=\u001b[39mcontagem_modelos, palette\u001b[39m=\u001b[39m\u001b[39m'\u001b[39m\u001b[39mBlues\u001b[39m\u001b[39m'\u001b[39m)\n",
      "File \u001b[1;32m~\\AppData\\Local\\Packages\\PythonSoftwareFoundation.Python.3.10_qbz5n2kfra8p0\\LocalCache\\local-packages\\Python310\\site-packages\\pandas\\core\\frame.py:6217\u001b[0m, in \u001b[0;36mDataFrame.reset_index\u001b[1;34m(self, level, drop, inplace, col_level, col_fill, allow_duplicates, names)\u001b[0m\n\u001b[0;32m   6211\u001b[0m         \u001b[39mif\u001b[39;00m lab \u001b[39mis\u001b[39;00m \u001b[39mnot\u001b[39;00m \u001b[39mNone\u001b[39;00m:\n\u001b[0;32m   6212\u001b[0m             \u001b[39m# if we have the codes, extract the values with a mask\u001b[39;00m\n\u001b[0;32m   6213\u001b[0m             level_values \u001b[39m=\u001b[39m algorithms\u001b[39m.\u001b[39mtake(\n\u001b[0;32m   6214\u001b[0m                 level_values, lab, allow_fill\u001b[39m=\u001b[39m\u001b[39mTrue\u001b[39;00m, fill_value\u001b[39m=\u001b[39mlev\u001b[39m.\u001b[39m_na_value\n\u001b[0;32m   6215\u001b[0m             )\n\u001b[1;32m-> 6217\u001b[0m         new_obj\u001b[39m.\u001b[39;49minsert(\n\u001b[0;32m   6218\u001b[0m             \u001b[39m0\u001b[39;49m,\n\u001b[0;32m   6219\u001b[0m             name,\n\u001b[0;32m   6220\u001b[0m             level_values,\n\u001b[0;32m   6221\u001b[0m             allow_duplicates\u001b[39m=\u001b[39;49mallow_duplicates,\n\u001b[0;32m   6222\u001b[0m         )\n\u001b[0;32m   6224\u001b[0m new_obj\u001b[39m.\u001b[39mindex \u001b[39m=\u001b[39m new_index\n\u001b[0;32m   6225\u001b[0m \u001b[39mif\u001b[39;00m \u001b[39mnot\u001b[39;00m inplace:\n",
      "File \u001b[1;32m~\\AppData\\Local\\Packages\\PythonSoftwareFoundation.Python.3.10_qbz5n2kfra8p0\\LocalCache\\local-packages\\Python310\\site-packages\\pandas\\core\\frame.py:4780\u001b[0m, in \u001b[0;36mDataFrame.insert\u001b[1;34m(self, loc, column, value, allow_duplicates)\u001b[0m\n\u001b[0;32m   4774\u001b[0m     \u001b[39mraise\u001b[39;00m \u001b[39mValueError\u001b[39;00m(\n\u001b[0;32m   4775\u001b[0m         \u001b[39m\"\u001b[39m\u001b[39mCannot specify \u001b[39m\u001b[39m'\u001b[39m\u001b[39mallow_duplicates=True\u001b[39m\u001b[39m'\u001b[39m\u001b[39m when \u001b[39m\u001b[39m\"\u001b[39m\n\u001b[0;32m   4776\u001b[0m         \u001b[39m\"\u001b[39m\u001b[39m'\u001b[39m\u001b[39mself.flags.allows_duplicate_labels\u001b[39m\u001b[39m'\u001b[39m\u001b[39m is False.\u001b[39m\u001b[39m\"\u001b[39m\n\u001b[0;32m   4777\u001b[0m     )\n\u001b[0;32m   4778\u001b[0m \u001b[39mif\u001b[39;00m \u001b[39mnot\u001b[39;00m allow_duplicates \u001b[39mand\u001b[39;00m column \u001b[39min\u001b[39;00m \u001b[39mself\u001b[39m\u001b[39m.\u001b[39mcolumns:\n\u001b[0;32m   4779\u001b[0m     \u001b[39m# Should this be a different kind of error??\u001b[39;00m\n\u001b[1;32m-> 4780\u001b[0m     \u001b[39mraise\u001b[39;00m \u001b[39mValueError\u001b[39;00m(\u001b[39mf\u001b[39m\u001b[39m\"\u001b[39m\u001b[39mcannot insert \u001b[39m\u001b[39m{\u001b[39;00mcolumn\u001b[39m}\u001b[39;00m\u001b[39m, already exists\u001b[39m\u001b[39m\"\u001b[39m)\n\u001b[0;32m   4781\u001b[0m \u001b[39mif\u001b[39;00m \u001b[39mnot\u001b[39;00m \u001b[39misinstance\u001b[39m(loc, \u001b[39mint\u001b[39m):\n\u001b[0;32m   4782\u001b[0m     \u001b[39mraise\u001b[39;00m \u001b[39mTypeError\u001b[39;00m(\u001b[39m\"\u001b[39m\u001b[39mloc must be int\u001b[39m\u001b[39m\"\u001b[39m)\n",
      "\u001b[1;31mValueError\u001b[0m: cannot insert level_0, already exists"
     ]
    }
   ],
   "source": [
    "contagem_modelos = contagem_modelos.sort_values(by=['vehicle_id'], ascending=False).reset_index()\n",
    "plt.figure(figsize=(15,4))\n",
    "sns.barplot(x='vehicle_model', y='vehicle_id', data=contagem_modelos, palette='Blues')\n",
    "plt.title('Carros no dataset')\n",
    "plt.show()"
   ]
  },
  {
   "cell_type": "code",
   "execution_count": null,
   "metadata": {},
   "outputs": [],
   "source": []
  }
 ],
 "metadata": {
  "kernelspec": {
   "display_name": "Python 3",
   "language": "python",
   "name": "python3"
  },
  "language_info": {
   "codemirror_mode": {
    "name": "ipython",
    "version": 3
   },
   "file_extension": ".py",
   "mimetype": "text/x-python",
   "name": "python",
   "nbconvert_exporter": "python",
   "pygments_lexer": "ipython3",
   "version": "3.10.11"
  },
  "orig_nbformat": 4
 },
 "nbformat": 4,
 "nbformat_minor": 2
}
